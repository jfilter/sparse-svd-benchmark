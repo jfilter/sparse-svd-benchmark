{
 "cells": [
  {
   "cell_type": "code",
   "execution_count": 2,
   "metadata": {},
   "outputs": [
    {
     "name": "stdout",
     "output_type": "stream",
     "text": [
      "Collecting matplotlib\n",
      "  Using cached https://files.pythonhosted.org/packages/da/83/d989ee20c78117c737ab40e0318ea221f1aed4e3f5a40b4f93541b369b93/matplotlib-3.1.0-cp36-cp36m-manylinux1_x86_64.whl\n",
      "Collecting cycler>=0.10 (from matplotlib)\n",
      "  Using cached https://files.pythonhosted.org/packages/f7/d2/e07d3ebb2bd7af696440ce7e754c59dd546ffe1bbe732c8ab68b9c834e61/cycler-0.10.0-py2.py3-none-any.whl\n",
      "Requirement already satisfied: python-dateutil>=2.1 in /home/filter/anaconda3/envs/hy3/lib/python3.6/site-packages (from matplotlib) (2.8.0)\n",
      "Collecting kiwisolver>=1.0.1 (from matplotlib)\n",
      "  Using cached https://files.pythonhosted.org/packages/f8/a1/5742b56282449b1c0968197f63eae486eca2c35dcd334bab75ad524e0de1/kiwisolver-1.1.0-cp36-cp36m-manylinux1_x86_64.whl\n",
      "Collecting pyparsing!=2.0.4,!=2.1.2,!=2.1.6,>=2.0.1 (from matplotlib)\n",
      "  Using cached https://files.pythonhosted.org/packages/dd/d9/3ec19e966301a6e25769976999bd7bbe552016f0d32b577dc9d63d2e0c49/pyparsing-2.4.0-py2.py3-none-any.whl\n",
      "Requirement already satisfied: numpy>=1.11 in /home/filter/anaconda3/envs/hy3/lib/python3.6/site-packages (from matplotlib) (1.16.4)\n",
      "Requirement already satisfied: six in /home/filter/anaconda3/envs/hy3/lib/python3.6/site-packages (from cycler>=0.10->matplotlib) (1.12.0)\n",
      "Requirement already satisfied: setuptools in /home/filter/anaconda3/envs/hy3/lib/python3.6/site-packages (from kiwisolver>=1.0.1->matplotlib) (41.0.1)\n",
      "Installing collected packages: cycler, kiwisolver, pyparsing, matplotlib\n",
      "Successfully installed cycler-0.10.0 kiwisolver-1.1.0 matplotlib-3.1.0 pyparsing-2.4.0\n"
     ]
    }
   ],
   "source": [
    "! pip install matplotlib"
   ]
  },
  {
   "cell_type": "code",
   "execution_count": 4,
   "metadata": {},
   "outputs": [
    {
     "name": "stdout",
     "output_type": "stream",
     "text": [
      "blas_mkl_info:\n",
      "  NOT AVAILABLE\n",
      "blis_info:\n",
      "    libraries = ['blas', 'cblas', 'lapack', 'blas', 'cblas', 'lapack']\n",
      "    library_dirs = ['/home/filter/anaconda3/envs/hy3/lib']\n",
      "    define_macros = [('HAVE_CBLAS', None)]\n",
      "    include_dirs = ['/home/filter/anaconda3/envs/hy3/include']\n",
      "    language = c\n",
      "blas_opt_info:\n",
      "    libraries = ['blas', 'cblas', 'lapack', 'blas', 'cblas', 'lapack', 'blas', 'cblas', 'lapack']\n",
      "    library_dirs = ['/home/filter/anaconda3/envs/hy3/lib']\n",
      "    define_macros = [('HAVE_CBLAS', None)]\n",
      "    include_dirs = ['/home/filter/anaconda3/envs/hy3/include']\n",
      "    language = c\n",
      "lapack_mkl_info:\n",
      "  NOT AVAILABLE\n",
      "openblas_lapack_info:\n",
      "    libraries = ['blas', 'cblas', 'lapack', 'blas', 'cblas', 'lapack']\n",
      "    library_dirs = ['/home/filter/anaconda3/envs/hy3/lib']\n",
      "    language = c\n",
      "    define_macros = [('HAVE_CBLAS', None)]\n",
      "lapack_opt_info:\n",
      "    libraries = ['blas', 'cblas', 'lapack', 'blas', 'cblas', 'lapack', 'blas', 'cblas', 'lapack']\n",
      "    library_dirs = ['/home/filter/anaconda3/envs/hy3/lib']\n",
      "    language = c\n",
      "    define_macros = [('HAVE_CBLAS', None)]\n"
     ]
    }
   ],
   "source": [
    "# https://simplyml.com/benchmarking-the-singular-value-decomposition/\n",
    "# https://github.com/charanpald/tyre-hug/blob/master/tyrehug/exp/svdbenchmark.py\n",
    "\n",
    "import time\n",
    "import numpy\n",
    "\n",
    "import matplotlib.pyplot as plt\n",
    "import scipy.sparse\n",
    "import numpy as np\n",
    "\n",
    "from scipy.sparse.linalg import svds\n",
    "# from sparsesvd import sparsesvd\n",
    "from sklearn.utils.extmath import randomized_svd\n",
    "from gensim.models.lsimodel import stochastic_svd\n",
    "\n",
    "np.show_config()"
   ]
  },
  {
   "cell_type": "code",
   "execution_count": 5,
   "metadata": {},
   "outputs": [],
   "source": [
    "def time_reps(func, params, reps):\n",
    "    start = time.time()\n",
    "    for s in range(reps):\n",
    "        func(*params)\n",
    "    print(\"Executed \" + str(func))\n",
    "    return (time.time() - start) / reps\n",
    "\n",
    "\n",
    "\"\"\"\n",
    "Compare and contrast different methods of computing the SVD\n",
    "\"\"\"\n",
    "\n",
    "k = 50\n",
    "p = 0\n",
    "reps = 5\n",
    "density = 10**-3\n",
    "n_iter = 5\n",
    "var_range = numpy.arange(1, 11)\n",
    "\n",
    "\n",
    "def gensim_svd(A, k):\n",
    "    return stochastic_svd(A, k, A.shape[0], power_iters=n_iter, extra_dims=10)\n",
    "\n",
    "\n",
    "def time_densities():\n",
    "    n = 10**4\n",
    "    densities = var_range * 2 * 10**-3\n",
    "    times = numpy.zeros((4, densities.shape[0]))\n",
    "\n",
    "    for i, density in enumerate(densities):\n",
    "        # Generate random sparse matrix\n",
    "        inds = numpy.random.randint(int(n), size=(2, int(n * n * density)))\n",
    "        data = numpy.random.rand(int(n * n * density))\n",
    "        A = scipy.sparse.csc_matrix((data, inds), (n, n))\n",
    "        print(A.shape, A.nnz)\n",
    "        \n",
    "        times[3, i] = time_reps(gensim_svd, (A, k), reps)\n",
    "        times[2, i] = time_reps(randomized_svd, (A, k, 10, n_iter), reps)\n",
    "        times[0, i] = time_reps(svds, (A, k), reps)\n",
    "#         times[1, i] = time_reps(sparsesvd, (A, k), reps)\n",
    "        print(n, density, times[:, i])\n",
    "\n",
    "    plt.figure(0)\n",
    "#     plt.plot(densities, times[1, :], 'k-', label=\"sparsesvd\")\n",
    "    plt.plot(densities, times[0, :], 'b-', label=\"scipy\")\n",
    "    plt.plot(densities, times[2, :], 'b--', label=\"sklearn (random)\")\n",
    "    plt.plot(densities, times[3, :], 'k--', label=\"Gensim SVD (random)\")\n",
    "\n",
    "    plt.legend(loc=\"upper left\")\n",
    "    plt.xlabel(\"density\")\n",
    "    plt.ylabel(\"time (s)\")\n",
    "    plt.savefig(\"time_densities.png\", format=\"png\")\n",
    "\n",
    "\n",
    "# Next, vary the matrix size\n",
    "def time_ns():\n",
    "    density = 10**-3\n",
    "    ns = var_range * 10**4\n",
    "    times = numpy.zeros((4, ns.shape[0]))\n",
    "\n",
    "    for i, n in enumerate(ns):\n",
    "        # Generate random sparse matrix\n",
    "        inds = numpy.random.randint(int(n), size=(2, int(n * n * density)))\n",
    "        data = numpy.random.rand(int(n * n * density))\n",
    "        A = scipy.sparse.csc_matrix((data, inds), (n, n))\n",
    "        print(A.shape, A.nnz)\n",
    "        \n",
    "        times[3, i] = time_reps(gensim_svd, (A, k), reps)\n",
    "        times[0, i] = time_reps(svds, (A, k), reps)\n",
    "#         times[1, i] = time_reps(sparsesvd, (A, k), reps)\n",
    "        times[2, i] = time_reps(randomized_svd, (A, k, 10, n_iter), reps)\n",
    "        print(n, density, times[:, i])\n",
    "\n",
    "    plt.figure(1)\n",
    "#     plt.plot(ns, times[1, :], 'k-', label=\"sparsesvd\")\n",
    "    plt.plot(ns, times[0, :], 'b-', label=\"scipy\")\n",
    "    plt.plot(ns, times[2, :], 'b--', label=\"sklearn (random)\")\n",
    "    plt.plot(ns, times[3, :], 'k--', label=\"Gensim SVD (random)\")\n",
    "\n",
    "    plt.legend(loc=\"upper left\")\n",
    "    plt.xlabel(\"n\")\n",
    "    plt.ylabel(\"time (s)\")\n",
    "    plt.savefig(\"time_ns.png\", format=\"png\")\n",
    "\n",
    "\n",
    "def time_ks():\n",
    "    n = 10**4\n",
    "    density = 10**-3\n",
    "    ks = var_range * 20\n",
    "    times = numpy.zeros((4, ks.shape[0]))\n",
    "\n",
    "    for i, k in enumerate(ks):\n",
    "        # Generate random sparse matrix\n",
    "        inds = numpy.random.randint(int(n), size=(2, int(n * n * density)))\n",
    "        data = numpy.random.rand(int(n * n * density))\n",
    "        A = scipy.sparse.csc_matrix((data, inds), (n, n))\n",
    "        print(A.shape, A.nnz)\n",
    "        \n",
    "        times[3, i] = time_reps(gensim_svd, (A, k), reps)\n",
    "        times[0, i] = time_reps(svds, (A, k), reps)\n",
    "#         times[1, i] = time_reps(sparsesvd, (A, k), reps)\n",
    "        times[2, i] = time_reps(randomized_svd, (A, k, 10, n_iter), reps)\n",
    "        print(n, density, times[:, i])\n",
    "\n",
    "    plt.figure(2)\n",
    "#     plt.plot(ks, times[1, :], 'k-', label=\"sparsesvd\")\n",
    "    plt.plot(ks, times[0, :], 'b-', label=\"scipy\")\n",
    "    plt.plot(ks, times[2, :], 'b--', label=\"sklearn (random)\")\n",
    "    plt.plot(ks, times[3, :], 'k--', label=\"Gensim SVD (random)\")\n",
    "\n",
    "    plt.legend(loc=\"upper left\")\n",
    "    plt.xlabel(\"k\")\n",
    "    plt.ylabel(\"time (s)\")\n",
    "    plt.savefig(\"time_ks.png\", format=\"png\")"
   ]
  },
  {
   "cell_type": "code",
   "execution_count": 6,
   "metadata": {},
   "outputs": [
    {
     "name": "stdout",
     "output_type": "stream",
     "text": [
      "(10000, 10000) 199823\n",
      "Executed <function gensim_svd at 0x7f4e4239ff28>\n",
      "Executed <function randomized_svd at 0x7f4e43efe048>\n",
      "Executed <function svds at 0x7f4e443db598>\n",
      "10000 0.002 [0.72477307 0.         0.2160953  0.22866769]\n",
      "(10000, 10000) 399242\n",
      "Executed <function gensim_svd at 0x7f4e4239ff28>\n",
      "Executed <function randomized_svd at 0x7f4e43efe048>\n",
      "Executed <function svds at 0x7f4e443db598>\n",
      "10000 0.004 [1.04061861 0.         0.2940403  0.28254018]\n",
      "(10000, 10000) 598251\n",
      "Executed <function gensim_svd at 0x7f4e4239ff28>\n",
      "Executed <function randomized_svd at 0x7f4e43efe048>\n",
      "Executed <function svds at 0x7f4e443db598>\n",
      "10000 0.006 [1.35831065 0.         0.36506567 0.34413681]\n",
      "(10000, 10000) 796816\n",
      "Executed <function gensim_svd at 0x7f4e4239ff28>\n",
      "Executed <function randomized_svd at 0x7f4e43efe048>\n",
      "Executed <function svds at 0x7f4e443db598>\n",
      "10000 0.008 [1.81681256 0.         0.44465284 0.44522762]\n",
      "(10000, 10000) 994973\n",
      "Executed <function gensim_svd at 0x7f4e4239ff28>\n",
      "Executed <function randomized_svd at 0x7f4e43efe048>\n",
      "Executed <function svds at 0x7f4e443db598>\n",
      "10000 0.01 [2.06747823 0.         0.53944216 0.51096578]\n",
      "(10000, 10000) 1192820\n",
      "Executed <function gensim_svd at 0x7f4e4239ff28>\n",
      "Executed <function randomized_svd at 0x7f4e43efe048>\n",
      "Executed <function svds at 0x7f4e443db598>\n",
      "10000 0.012 [2.24017401 0.         0.61882606 0.57838449]\n",
      "(10000, 10000) 1390118\n",
      "Executed <function gensim_svd at 0x7f4e4239ff28>\n",
      "Executed <function randomized_svd at 0x7f4e43efe048>\n",
      "Executed <function svds at 0x7f4e443db598>\n",
      "10000 0.014 [2.61627688 0.         0.68596401 0.65995069]\n",
      "(10000, 10000) 1587276\n",
      "Executed <function gensim_svd at 0x7f4e4239ff28>\n",
      "Executed <function randomized_svd at 0x7f4e43efe048>\n",
      "Executed <function svds at 0x7f4e443db598>\n",
      "10000 0.016 [2.94792542 0.         0.77650604 0.76668463]\n",
      "(10000, 10000) 1783829\n",
      "Executed <function gensim_svd at 0x7f4e4239ff28>\n",
      "Executed <function randomized_svd at 0x7f4e43efe048>\n",
      "Executed <function svds at 0x7f4e443db598>\n",
      "10000 0.018000000000000002 [3.27924042 0.         0.82667274 0.79936924]\n",
      "(10000, 10000) 1980475\n",
      "Executed <function gensim_svd at 0x7f4e4239ff28>\n",
      "Executed <function randomized_svd at 0x7f4e43efe048>\n",
      "Executed <function svds at 0x7f4e443db598>\n",
      "10000 0.02 [3.53995748 0.         0.93633451 0.88032441]\n"
     ]
    },
    {
     "data": {
      "image/png": "[encoded data removed]",
      "text/plain": [
       "<Figure size 432x288 with 1 Axes>"
      ]
     },
     "metadata": {
      "needs_background": "light"
     },
     "output_type": "display_data"
    }
   ],
   "source": [
    "time_densities()"
   ]
  },
  {
   "cell_type": "code",
   "execution_count": 7,
   "metadata": {},
   "outputs": [
    {
     "name": "stdout",
     "output_type": "stream",
     "text": [
      "(10000, 10000) 99963\n",
      "Executed <function gensim_svd at 0x7f4e4239ff28>\n",
      "Executed <function svds at 0x7f4e443db598>\n",
      "Executed <function randomized_svd at 0x7f4e43efe048>\n",
      "10000 0.001 [0.56332397 0.         0.16327772 0.15186725]\n",
      "(20000, 20000) 399773\n",
      "Executed <function gensim_svd at 0x7f4e4239ff28>\n",
      "Executed <function svds at 0x7f4e443db598>\n",
      "Executed <function randomized_svd at 0x7f4e43efe048>\n",
      "20000 0.001 [2.48298349 0.         0.60912576 0.61790543]\n",
      "(30000, 30000) 899527\n",
      "Executed <function gensim_svd at 0x7f4e4239ff28>\n",
      "Executed <function svds at 0x7f4e443db598>\n",
      "Executed <function randomized_svd at 0x7f4e43efe048>\n",
      "30000 0.001 [5.60239406 0.         1.39338412 1.45393682]\n",
      "(40000, 40000) 1599206\n",
      "Executed <function gensim_svd at 0x7f4e4239ff28>\n",
      "Executed <function svds at 0x7f4e443db598>\n",
      "Executed <function randomized_svd at 0x7f4e43efe048>\n",
      "40000 0.001 [11.30199447  0.          2.41360564  2.59306173]\n",
      "(50000, 50000) 2498782\n",
      "Executed <function gensim_svd at 0x7f4e4239ff28>\n",
      "Executed <function svds at 0x7f4e443db598>\n",
      "Executed <function randomized_svd at 0x7f4e43efe048>\n",
      "50000 0.001 [18.23549981  0.          3.71365128  3.94062538]\n",
      "(60000, 60000) 3598270\n",
      "Executed <function gensim_svd at 0x7f4e4239ff28>\n",
      "Executed <function svds at 0x7f4e443db598>\n",
      "Executed <function randomized_svd at 0x7f4e43efe048>\n",
      "60000 0.001 [27.46179085  0.          5.31994319  5.60144806]\n",
      "(70000, 70000) 4897497\n",
      "Executed <function gensim_svd at 0x7f4e4239ff28>\n",
      "Executed <function svds at 0x7f4e443db598>\n",
      "Executed <function randomized_svd at 0x7f4e43efe048>\n",
      "70000 0.001 [39.44316697  0.          7.91870627  7.98339124]\n",
      "(80000, 80000) 6396757\n",
      "Executed <function gensim_svd at 0x7f4e4239ff28>\n",
      "Executed <function svds at 0x7f4e443db598>\n",
      "Executed <function randomized_svd at 0x7f4e43efe048>\n",
      "80000 0.001 [52.91148567  0.          9.46508608  9.86497064]\n",
      "(90000, 90000) 8095889\n",
      "Executed <function gensim_svd at 0x7f4e4239ff28>\n",
      "Executed <function svds at 0x7f4e443db598>\n",
      "Executed <function randomized_svd at 0x7f4e43efe048>\n",
      "90000 0.001 [68.63566403  0.         12.31226573 12.64846206]\n",
      "(100000, 100000) 9995052\n",
      "Executed <function gensim_svd at 0x7f4e4239ff28>\n",
      "Executed <function svds at 0x7f4e443db598>\n",
      "Executed <function randomized_svd at 0x7f4e43efe048>\n",
      "100000 0.001 [87.18712888  0.         15.5757864  15.78205442]\n"
     ]
    },
    {
     "data": {
      "image/png": "[encoded data removed]",
      "text/plain": [
       "<Figure size 432x288 with 1 Axes>"
      ]
     },
     "metadata": {
      "needs_background": "light"
     },
     "output_type": "display_data"
    }
   ],
   "source": [
    "time_ns()"
   ]
  },
  {
   "cell_type": "code",
   "execution_count": 8,
   "metadata": {},
   "outputs": [
    {
     "name": "stdout",
     "output_type": "stream",
     "text": [
      "(10000, 10000) 99950\n",
      "Executed <function gensim_svd at 0x7f4e4239ff28>\n",
      "Executed <function svds at 0x7f4e443db598>\n",
      "Executed <function randomized_svd at 0x7f4e43efe048>\n",
      "10000 0.001 [0.1628334  0.         0.06912408 0.06188965]\n",
      "(10000, 10000) 99953\n",
      "Executed <function gensim_svd at 0x7f4e4239ff28>\n",
      "Executed <function svds at 0x7f4e443db598>\n",
      "Executed <function randomized_svd at 0x7f4e43efe048>\n",
      "10000 0.001 [0.37151818 0.         0.12871561 0.11909833]\n",
      "(10000, 10000) 99951\n",
      "Executed <function gensim_svd at 0x7f4e4239ff28>\n",
      "Executed <function svds at 0x7f4e443db598>\n",
      "Executed <function randomized_svd at 0x7f4e43efe048>\n",
      "10000 0.001 [0.77775002 0.         0.19969969 0.19150925]\n",
      "(10000, 10000) 99952\n",
      "Executed <function gensim_svd at 0x7f4e4239ff28>\n",
      "Executed <function svds at 0x7f4e443db598>\n",
      "Executed <function randomized_svd at 0x7f4e43efe048>\n",
      "10000 0.001 [1.278546   0.         0.29540129 0.30497289]\n",
      "(10000, 10000) 99951\n",
      "Executed <function gensim_svd at 0x7f4e4239ff28>\n",
      "Executed <function svds at 0x7f4e443db598>\n",
      "Executed <function randomized_svd at 0x7f4e43efe048>\n",
      "10000 0.001 [1.99425578 0.         0.40793977 0.45370545]\n",
      "(10000, 10000) 99957\n",
      "Executed <function gensim_svd at 0x7f4e4239ff28>\n",
      "Executed <function svds at 0x7f4e443db598>\n",
      "Executed <function randomized_svd at 0x7f4e43efe048>\n",
      "10000 0.001 [2.51300855 0.         0.47944155 0.49271722]\n",
      "(10000, 10000) 99963\n",
      "Executed <function gensim_svd at 0x7f4e4239ff28>\n",
      "Executed <function svds at 0x7f4e443db598>\n",
      "Executed <function randomized_svd at 0x7f4e43efe048>\n",
      "10000 0.001 [3.44795585 0.         0.60113568 0.680761  ]\n",
      "(10000, 10000) 99958\n",
      "Executed <function gensim_svd at 0x7f4e4239ff28>\n",
      "Executed <function svds at 0x7f4e443db598>\n",
      "Executed <function randomized_svd at 0x7f4e43efe048>\n",
      "10000 0.001 [4.17465258 0.         0.66062264 0.69933505]\n",
      "(10000, 10000) 99953\n",
      "Executed <function gensim_svd at 0x7f4e4239ff28>\n",
      "Executed <function svds at 0x7f4e443db598>\n",
      "Executed <function randomized_svd at 0x7f4e43efe048>\n",
      "10000 0.001 [5.27612076 0.         0.77981496 0.89439149]\n",
      "(10000, 10000) 99950\n",
      "Executed <function gensim_svd at 0x7f4e4239ff28>\n",
      "Executed <function svds at 0x7f4e443db598>\n",
      "Executed <function randomized_svd at 0x7f4e43efe048>\n",
      "10000 0.001 [5.92155252 0.         0.86180668 0.9026978 ]\n"
     ]
    },
    {
     "data": {
      "image/png": "[encoded data removed]",
      "text/plain": [
       "<Figure size 432x288 with 1 Axes>"
      ]
     },
     "metadata": {
      "needs_background": "light"
     },
     "output_type": "display_data"
    }
   ],
   "source": [
    "time_ks()"
   ]
  },
  {
   "cell_type": "code",
   "execution_count": null,
   "metadata": {},
   "outputs": [],
   "source": [
    "plt.show()"
   ]
  },
  {
   "cell_type": "code",
   "execution_count": null,
   "metadata": {},
   "outputs": [],
   "source": []
  }
 ],
 "metadata": {
  "kernelspec": {
   "display_name": "Python 3",
   "language": "python",
   "name": "python3"
  },
  "language_info": {
   "codemirror_mode": {
    "name": "ipython",
    "version": 3
   },
   "file_extension": ".py",
   "mimetype": "text/x-python",
   "name": "python",
   "nbconvert_exporter": "python",
   "pygments_lexer": "ipython3",
   "version": "3.6.7"
  }
 },
 "nbformat": 4,
 "nbformat_minor": 2
}
